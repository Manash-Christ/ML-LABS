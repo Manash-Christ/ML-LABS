{
  "cells": [
    {
      "cell_type": "markdown",
      "metadata": {
        "id": "view-in-github",
        "colab_type": "text"
      },
      "source": [
        "<a href=\"https://colab.research.google.com/github/Manash-Christ/ML-LABS/blob/main/2348528_LAB5.ipynb\" target=\"_parent\"><img src=\"https://colab.research.google.com/assets/colab-badge.svg\" alt=\"Open In Colab\"/></a>"
      ]
    },
    {
      "cell_type": "code",
      "execution_count": null,
      "id": "32300d47-1884-4ed6-9853-a350f2674063",
      "metadata": {
        "id": "32300d47-1884-4ed6-9853-a350f2674063"
      },
      "outputs": [],
      "source": [
        "import pandas as pd\n",
        "import numpy as np\n",
        "import matplotlib.pyplot as plt\n",
        "import seaborn as sns\n",
        "from sklearn.preprocessing import LabelEncoder\n",
        "from sklearn.linear_model import LinearRegression\n",
        "from sklearn.linear_model import LogisticRegression\n",
        "from sklearn.linear_model import LogisticRegressionCV as lrcv\n",
        "from sklearn.linear_model import SGDClassifier\n",
        "\n",
        "\n",
        "from sklearn.model_selection import train_test_split as tts\n",
        "\n",
        "from sklearn.metrics import classification_report\n",
        "from sklearn.metrics import precision_score, recall_score, roc_auc_score, cohen_kappa_score, matthews_corrcoef, f1_score, jaccard_score\n",
        "from sklearn.metrics import confusion_matrix, ConfusionMatrixDisplay\n",
        "import warnings\n",
        "warnings.filterwarnings(\"ignore\")"
      ]
    },
    {
      "cell_type": "markdown",
      "id": "570343cc-3dad-4ce4-9ade-b1067468016a",
      "metadata": {
        "id": "570343cc-3dad-4ce4-9ade-b1067468016a"
      },
      "source": [
        "# ML LAB - 5\n",
        "## LOGISTIC REGRESSION"
      ]
    },
    {
      "cell_type": "markdown",
      "id": "444c8a55-8d31-4879-b702-a055c32444e8",
      "metadata": {
        "jp-MarkdownHeadingCollapsed": true,
        "id": "444c8a55-8d31-4879-b702-a055c32444e8"
      },
      "source": [
        "##### DATA PRE-PROCESSING"
      ]
    },
    {
      "cell_type": "code",
      "execution_count": null,
      "id": "8171218d-c4a9-4bea-aec8-ae3a53ecd430",
      "metadata": {
        "scrolled": true,
        "id": "8171218d-c4a9-4bea-aec8-ae3a53ecd430",
        "outputId": "34242739-f45f-4768-ebd1-d3684e3f73d5"
      },
      "outputs": [
        {
          "name": "stdout",
          "output_type": "stream",
          "text": [
            "PRE-PROCESSING\n",
            "\n",
            "\n",
            "0. finding index column...\n",
            "Selected index as customerID\n",
            "\n",
            "\n",
            "1. Looking for Nulls...\n",
            "11 Nulls present in TotalCharges\n",
            "Data type of TotalCharges is float64\n",
            "Since it is a numeric, continous varible, we can impute the NaNs with the columns mean\n",
            "Imputing means....\n",
            "No nulls\n",
            "\n",
            "\n",
            "2. Looking for categorical variables....\n",
            "Categorical variables are: gender, Partner, Dependents, PhoneService, MultipleLines, InternetService, OnlineSecurity, OnlineBackup, DeviceProtection, TechSupport, StreamingTV, StreamingMovies, Contract, PaperlessBilling, PaymentMethod, Churn.\n",
            "We have two ways to encode the categorical variables; LabelEncoder or Dummy Variable.\n"
          ]
        },
        {
          "name": "stdin",
          "output_type": "stream",
          "text": [
            "Enter 0 for LabelEncoder and 1 for Dummy Variable. 0\n"
          ]
        },
        {
          "name": "stdout",
          "output_type": "stream",
          "text": [
            "Label Encoding categorical variables...\n",
            "\n",
            "\n",
            "3. Variance influencing factor...\n",
            "TotalCharges        10.45\n",
            "tenure               7.22\n",
            "MonthlyCharges       5.14\n",
            "Contract             2.48\n",
            "InternetService      1.84\n",
            "PhoneService         1.63\n",
            "Partner              1.46\n",
            "StreamingTV          1.45\n",
            "StreamingMovies      1.45\n",
            "MultipleLines        1.40\n",
            "Dependents           1.38\n",
            "TechSupport          1.33\n",
            "DeviceProtection     1.30\n",
            "OnlineSecurity       1.28\n",
            "OnlineBackup         1.22\n",
            "PaperlessBilling     1.21\n",
            "PaymentMethod        1.19\n",
            "SeniorCitizen        1.15\n",
            "gender               1.00\n",
            "dtype: float64\n",
            "Highly Colinear variables are TotalCharges\n",
            "Creating new variable; Monthly Charges as a proportion of Total Charges to remove multicollinearity\n",
            "\n",
            "\n",
            "Using Label encoding produces less linearly dependent result\n",
            "Proceed to model development....\n"
          ]
        },
        {
          "data": {
            "text/html": [
              "<div>\n",
              "<style scoped>\n",
              "    .dataframe tbody tr th:only-of-type {\n",
              "        vertical-align: middle;\n",
              "    }\n",
              "\n",
              "    .dataframe tbody tr th {\n",
              "        vertical-align: top;\n",
              "    }\n",
              "\n",
              "    .dataframe thead th {\n",
              "        text-align: right;\n",
              "    }\n",
              "</style>\n",
              "<table border=\"1\" class=\"dataframe\">\n",
              "  <thead>\n",
              "    <tr style=\"text-align: right;\">\n",
              "      <th></th>\n",
              "      <th>gender</th>\n",
              "      <th>SeniorCitizen</th>\n",
              "      <th>Partner</th>\n",
              "      <th>Dependents</th>\n",
              "      <th>tenure</th>\n",
              "      <th>PhoneService</th>\n",
              "      <th>MultipleLines</th>\n",
              "      <th>InternetService</th>\n",
              "      <th>OnlineSecurity</th>\n",
              "      <th>OnlineBackup</th>\n",
              "      <th>DeviceProtection</th>\n",
              "      <th>TechSupport</th>\n",
              "      <th>StreamingTV</th>\n",
              "      <th>StreamingMovies</th>\n",
              "      <th>Contract</th>\n",
              "      <th>PaperlessBilling</th>\n",
              "      <th>PaymentMethod</th>\n",
              "      <th>Churn</th>\n",
              "      <th>charge_prop</th>\n",
              "    </tr>\n",
              "    <tr>\n",
              "      <th>customerID</th>\n",
              "      <th></th>\n",
              "      <th></th>\n",
              "      <th></th>\n",
              "      <th></th>\n",
              "      <th></th>\n",
              "      <th></th>\n",
              "      <th></th>\n",
              "      <th></th>\n",
              "      <th></th>\n",
              "      <th></th>\n",
              "      <th></th>\n",
              "      <th></th>\n",
              "      <th></th>\n",
              "      <th></th>\n",
              "      <th></th>\n",
              "      <th></th>\n",
              "      <th></th>\n",
              "      <th></th>\n",
              "      <th></th>\n",
              "    </tr>\n",
              "  </thead>\n",
              "  <tbody>\n",
              "    <tr>\n",
              "      <th>7590-VHVEG</th>\n",
              "      <td>0</td>\n",
              "      <td>0</td>\n",
              "      <td>1</td>\n",
              "      <td>0</td>\n",
              "      <td>1</td>\n",
              "      <td>0</td>\n",
              "      <td>1</td>\n",
              "      <td>0</td>\n",
              "      <td>0</td>\n",
              "      <td>2</td>\n",
              "      <td>0</td>\n",
              "      <td>0</td>\n",
              "      <td>0</td>\n",
              "      <td>0</td>\n",
              "      <td>0</td>\n",
              "      <td>1</td>\n",
              "      <td>2</td>\n",
              "      <td>0</td>\n",
              "      <td>1.000000</td>\n",
              "    </tr>\n",
              "    <tr>\n",
              "      <th>5575-GNVDE</th>\n",
              "      <td>1</td>\n",
              "      <td>0</td>\n",
              "      <td>0</td>\n",
              "      <td>0</td>\n",
              "      <td>34</td>\n",
              "      <td>1</td>\n",
              "      <td>0</td>\n",
              "      <td>0</td>\n",
              "      <td>2</td>\n",
              "      <td>0</td>\n",
              "      <td>2</td>\n",
              "      <td>0</td>\n",
              "      <td>0</td>\n",
              "      <td>0</td>\n",
              "      <td>1</td>\n",
              "      <td>0</td>\n",
              "      <td>3</td>\n",
              "      <td>0</td>\n",
              "      <td>0.030140</td>\n",
              "    </tr>\n",
              "    <tr>\n",
              "      <th>3668-QPYBK</th>\n",
              "      <td>1</td>\n",
              "      <td>0</td>\n",
              "      <td>0</td>\n",
              "      <td>0</td>\n",
              "      <td>2</td>\n",
              "      <td>1</td>\n",
              "      <td>0</td>\n",
              "      <td>0</td>\n",
              "      <td>2</td>\n",
              "      <td>2</td>\n",
              "      <td>0</td>\n",
              "      <td>0</td>\n",
              "      <td>0</td>\n",
              "      <td>0</td>\n",
              "      <td>0</td>\n",
              "      <td>1</td>\n",
              "      <td>3</td>\n",
              "      <td>1</td>\n",
              "      <td>0.497920</td>\n",
              "    </tr>\n",
              "    <tr>\n",
              "      <th>7795-CFOCW</th>\n",
              "      <td>1</td>\n",
              "      <td>0</td>\n",
              "      <td>0</td>\n",
              "      <td>0</td>\n",
              "      <td>45</td>\n",
              "      <td>0</td>\n",
              "      <td>1</td>\n",
              "      <td>0</td>\n",
              "      <td>2</td>\n",
              "      <td>0</td>\n",
              "      <td>2</td>\n",
              "      <td>2</td>\n",
              "      <td>0</td>\n",
              "      <td>0</td>\n",
              "      <td>1</td>\n",
              "      <td>0</td>\n",
              "      <td>0</td>\n",
              "      <td>0</td>\n",
              "      <td>0.022980</td>\n",
              "    </tr>\n",
              "    <tr>\n",
              "      <th>9237-HQITU</th>\n",
              "      <td>0</td>\n",
              "      <td>0</td>\n",
              "      <td>0</td>\n",
              "      <td>0</td>\n",
              "      <td>2</td>\n",
              "      <td>1</td>\n",
              "      <td>0</td>\n",
              "      <td>1</td>\n",
              "      <td>0</td>\n",
              "      <td>0</td>\n",
              "      <td>0</td>\n",
              "      <td>0</td>\n",
              "      <td>0</td>\n",
              "      <td>0</td>\n",
              "      <td>0</td>\n",
              "      <td>1</td>\n",
              "      <td>2</td>\n",
              "      <td>1</td>\n",
              "      <td>0.466205</td>\n",
              "    </tr>\n",
              "    <tr>\n",
              "      <th>...</th>\n",
              "      <td>...</td>\n",
              "      <td>...</td>\n",
              "      <td>...</td>\n",
              "      <td>...</td>\n",
              "      <td>...</td>\n",
              "      <td>...</td>\n",
              "      <td>...</td>\n",
              "      <td>...</td>\n",
              "      <td>...</td>\n",
              "      <td>...</td>\n",
              "      <td>...</td>\n",
              "      <td>...</td>\n",
              "      <td>...</td>\n",
              "      <td>...</td>\n",
              "      <td>...</td>\n",
              "      <td>...</td>\n",
              "      <td>...</td>\n",
              "      <td>...</td>\n",
              "      <td>...</td>\n",
              "    </tr>\n",
              "    <tr>\n",
              "      <th>6840-RESVB</th>\n",
              "      <td>1</td>\n",
              "      <td>0</td>\n",
              "      <td>1</td>\n",
              "      <td>1</td>\n",
              "      <td>24</td>\n",
              "      <td>1</td>\n",
              "      <td>2</td>\n",
              "      <td>0</td>\n",
              "      <td>2</td>\n",
              "      <td>0</td>\n",
              "      <td>2</td>\n",
              "      <td>2</td>\n",
              "      <td>2</td>\n",
              "      <td>2</td>\n",
              "      <td>1</td>\n",
              "      <td>1</td>\n",
              "      <td>3</td>\n",
              "      <td>0</td>\n",
              "      <td>0.042602</td>\n",
              "    </tr>\n",
              "    <tr>\n",
              "      <th>2234-XADUH</th>\n",
              "      <td>0</td>\n",
              "      <td>0</td>\n",
              "      <td>1</td>\n",
              "      <td>1</td>\n",
              "      <td>72</td>\n",
              "      <td>1</td>\n",
              "      <td>2</td>\n",
              "      <td>1</td>\n",
              "      <td>0</td>\n",
              "      <td>2</td>\n",
              "      <td>2</td>\n",
              "      <td>0</td>\n",
              "      <td>2</td>\n",
              "      <td>2</td>\n",
              "      <td>1</td>\n",
              "      <td>1</td>\n",
              "      <td>1</td>\n",
              "      <td>0</td>\n",
              "      <td>0.014016</td>\n",
              "    </tr>\n",
              "    <tr>\n",
              "      <th>4801-JZAZL</th>\n",
              "      <td>0</td>\n",
              "      <td>0</td>\n",
              "      <td>1</td>\n",
              "      <td>1</td>\n",
              "      <td>11</td>\n",
              "      <td>0</td>\n",
              "      <td>1</td>\n",
              "      <td>0</td>\n",
              "      <td>2</td>\n",
              "      <td>0</td>\n",
              "      <td>0</td>\n",
              "      <td>0</td>\n",
              "      <td>0</td>\n",
              "      <td>0</td>\n",
              "      <td>0</td>\n",
              "      <td>1</td>\n",
              "      <td>2</td>\n",
              "      <td>0</td>\n",
              "      <td>0.085438</td>\n",
              "    </tr>\n",
              "    <tr>\n",
              "      <th>8361-LTMKD</th>\n",
              "      <td>1</td>\n",
              "      <td>1</td>\n",
              "      <td>1</td>\n",
              "      <td>0</td>\n",
              "      <td>4</td>\n",
              "      <td>1</td>\n",
              "      <td>2</td>\n",
              "      <td>1</td>\n",
              "      <td>0</td>\n",
              "      <td>0</td>\n",
              "      <td>0</td>\n",
              "      <td>0</td>\n",
              "      <td>0</td>\n",
              "      <td>0</td>\n",
              "      <td>0</td>\n",
              "      <td>1</td>\n",
              "      <td>3</td>\n",
              "      <td>1</td>\n",
              "      <td>0.242661</td>\n",
              "    </tr>\n",
              "    <tr>\n",
              "      <th>3186-AJIEK</th>\n",
              "      <td>1</td>\n",
              "      <td>0</td>\n",
              "      <td>0</td>\n",
              "      <td>0</td>\n",
              "      <td>66</td>\n",
              "      <td>1</td>\n",
              "      <td>0</td>\n",
              "      <td>1</td>\n",
              "      <td>2</td>\n",
              "      <td>0</td>\n",
              "      <td>2</td>\n",
              "      <td>2</td>\n",
              "      <td>2</td>\n",
              "      <td>2</td>\n",
              "      <td>2</td>\n",
              "      <td>1</td>\n",
              "      <td>0</td>\n",
              "      <td>0</td>\n",
              "      <td>0.015436</td>\n",
              "    </tr>\n",
              "  </tbody>\n",
              "</table>\n",
              "<p>7043 rows × 19 columns</p>\n",
              "</div>"
            ],
            "text/plain": [
              "            gender  SeniorCitizen  Partner  Dependents  tenure  PhoneService  \\\n",
              "customerID                                                                     \n",
              "7590-VHVEG       0              0        1           0       1             0   \n",
              "5575-GNVDE       1              0        0           0      34             1   \n",
              "3668-QPYBK       1              0        0           0       2             1   \n",
              "7795-CFOCW       1              0        0           0      45             0   \n",
              "9237-HQITU       0              0        0           0       2             1   \n",
              "...            ...            ...      ...         ...     ...           ...   \n",
              "6840-RESVB       1              0        1           1      24             1   \n",
              "2234-XADUH       0              0        1           1      72             1   \n",
              "4801-JZAZL       0              0        1           1      11             0   \n",
              "8361-LTMKD       1              1        1           0       4             1   \n",
              "3186-AJIEK       1              0        0           0      66             1   \n",
              "\n",
              "            MultipleLines  InternetService  OnlineSecurity  OnlineBackup  \\\n",
              "customerID                                                                 \n",
              "7590-VHVEG              1                0               0             2   \n",
              "5575-GNVDE              0                0               2             0   \n",
              "3668-QPYBK              0                0               2             2   \n",
              "7795-CFOCW              1                0               2             0   \n",
              "9237-HQITU              0                1               0             0   \n",
              "...                   ...              ...             ...           ...   \n",
              "6840-RESVB              2                0               2             0   \n",
              "2234-XADUH              2                1               0             2   \n",
              "4801-JZAZL              1                0               2             0   \n",
              "8361-LTMKD              2                1               0             0   \n",
              "3186-AJIEK              0                1               2             0   \n",
              "\n",
              "            DeviceProtection  TechSupport  StreamingTV  StreamingMovies  \\\n",
              "customerID                                                                \n",
              "7590-VHVEG                 0            0            0                0   \n",
              "5575-GNVDE                 2            0            0                0   \n",
              "3668-QPYBK                 0            0            0                0   \n",
              "7795-CFOCW                 2            2            0                0   \n",
              "9237-HQITU                 0            0            0                0   \n",
              "...                      ...          ...          ...              ...   \n",
              "6840-RESVB                 2            2            2                2   \n",
              "2234-XADUH                 2            0            2                2   \n",
              "4801-JZAZL                 0            0            0                0   \n",
              "8361-LTMKD                 0            0            0                0   \n",
              "3186-AJIEK                 2            2            2                2   \n",
              "\n",
              "            Contract  PaperlessBilling  PaymentMethod  Churn  charge_prop  \n",
              "customerID                                                                 \n",
              "7590-VHVEG         0                 1              2      0     1.000000  \n",
              "5575-GNVDE         1                 0              3      0     0.030140  \n",
              "3668-QPYBK         0                 1              3      1     0.497920  \n",
              "7795-CFOCW         1                 0              0      0     0.022980  \n",
              "9237-HQITU         0                 1              2      1     0.466205  \n",
              "...              ...               ...            ...    ...          ...  \n",
              "6840-RESVB         1                 1              3      0     0.042602  \n",
              "2234-XADUH         1                 1              1      0     0.014016  \n",
              "4801-JZAZL         0                 1              2      0     0.085438  \n",
              "8361-LTMKD         0                 1              3      1     0.242661  \n",
              "3186-AJIEK         2                 1              0      0     0.015436  \n",
              "\n",
              "[7043 rows x 19 columns]"
            ]
          },
          "execution_count": 260,
          "metadata": {},
          "output_type": "execute_result"
        }
      ],
      "source": [
        "df=pd.read_csv('MLLAB5.csv')\n",
        "def vif(df):\n",
        "    viff = {}\n",
        "    for i in df.drop('Churn',axis=1).columns:\n",
        "        y = df[i]\n",
        "        X = df.drop(i, axis=1)\n",
        "        lr = LinearRegression()\n",
        "        reg = lr.fit(X, y)\n",
        "        rs = reg.score(X, y)\n",
        "        viff[i] = round(1/(1-rs),2)\n",
        "    return viff\n",
        "\n",
        "def preprocess(df):\n",
        "    print(\"PRE-PROCESSING\")\n",
        "    print(\"\\n\")\n",
        "    print('0. finding index column...')\n",
        "    for i in df.columns:\n",
        "        #print(f'{df[i]}')\n",
        "        if df[i].nunique() == len(df):\n",
        "            df.set_index(i, inplace=True)\n",
        "    print(f'Selected index as {df.index.name}')\n",
        "    print(\"\\n\")\n",
        "    print('1. Looking for Nulls...')\n",
        "    nul = [cols for cols in df.columns if df[cols].isna().sum() != 0]\n",
        "    print(f'{df[nul].isna().sum().values.__int__()} Nulls present in {str(\"\".join(nul))}')\n",
        "    print(f'Data type of {\"\".join(nul)} is {str(df[nul].dtypes[0])}')\n",
        "    print(f'Since it is a numeric, continous varible, we can impute the NaNs with the columns mean')\n",
        "    print('Imputing means....')\n",
        "    df[nul] = df[nul].fillna(df[nul].mean())\n",
        "    print(\"No nulls\" if df.columns.isna().sum() == 0 else \"Nulls still present\")\n",
        "    print(\"\\n\")\n",
        "    print('2. Looking for categorical variables....')\n",
        "    cat = [cols for cols in df.columns if str(df[cols].dtypes) == 'object']\n",
        "    print(f'Categorical variables are: {\", \".join(cat)}', end = '.')\n",
        "    print(\"\\nWe have two ways to encode the categorical variables; LabelEncoder or Dummy Variable.\")\n",
        "    user = int(input(\"Enter 0 for LabelEncoder and 1 for Dummy Variable.\"))\n",
        "    if user == 0:\n",
        "        print(\"Label Encoding categorical variables...\")\n",
        "        lb = LabelEncoder()\n",
        "        for i in cat:\n",
        "            df[i] = lb.fit_transform(df[i])\n",
        "\n",
        "    elif user == 1:\n",
        "        print(\"Dummy Encoding categorial variables...\")\n",
        "        cat = cat.remove('Churn')\n",
        "        df['Churn'] = df['Churn'].replace({'Yes':1, 'No':0})\n",
        "        df = pd.get_dummies(df, drop_first=True, dtype='int')\n",
        "\n",
        "    print(\"\\n\")\n",
        "    print(\"3. Variance influencing factor...\")\n",
        "    v = vif(df)\n",
        "    vf = pd.Series(v).sort_values(ascending=False)\n",
        "    print(vf)\n",
        "    print(f\"Highly Colinear variables are {' '.join(vf[vf>10].index.to_list())}\")\n",
        "    print(\"Creating new variable; Monthly Charges as a proportion of Total Charges to remove multicollinearity\")\n",
        "    df['charge_prop'] = df['MonthlyCharges']/df['TotalCharges']\n",
        "    df.drop(['MonthlyCharges','TotalCharges'],axis=1,inplace=True)\n",
        "    print(\"\\n\")\n",
        "    print(\"Using Label encoding produces less linearly dependent result\")\n",
        "    print(\"Proceed to model development....\")\n",
        "    return df\n",
        "preprocess(df)"
      ]
    },
    {
      "cell_type": "code",
      "execution_count": null,
      "id": "1580a48f-2850-4250-a61a-bd34c488e214",
      "metadata": {
        "id": "1580a48f-2850-4250-a61a-bd34c488e214",
        "outputId": "664aa22b-1e70-436f-e86a-5a312c3a5255"
      },
      "outputs": [
        {
          "name": "stdout",
          "output_type": "stream",
          "text": [
            "Categorical columns --> gender SeniorCitizen Partner Dependents PhoneService MultipleLines InternetService OnlineSecurity OnlineBackup DeviceProtection TechSupport StreamingTV StreamingMovies Contract PaperlessBilling Churn\n"
          ]
        }
      ],
      "source": [
        "numeric_col = [x for x in df if df[x].nunique() > 10]\n",
        "cat_col = [x for x in df if df[x].nunique() <= 3]\n",
        "def plot(df):\n",
        "    print(f\"Categorical columns --> {' '.join(cat_col)}\")\n",
        "\n",
        "plot(df)"
      ]
    },
    {
      "cell_type": "markdown",
      "id": "cf545a04-af84-4a3b-bd7c-5b9e1828f5f1",
      "metadata": {
        "id": "cf545a04-af84-4a3b-bd7c-5b9e1828f5f1"
      },
      "source": [
        "##### MODEL BUILDING"
      ]
    },
    {
      "cell_type": "code",
      "execution_count": null,
      "id": "70bd540d-fe92-4b9f-92d1-ddb8326840ef",
      "metadata": {
        "id": "70bd540d-fe92-4b9f-92d1-ddb8326840ef",
        "outputId": "a39cc435-3d85-4e04-dabb-2f0de3a40aa3"
      },
      "outputs": [
        {
          "data": {
            "text/plain": [
              "customerID\n",
              "6152-ONASV    0\n",
              "2357-COQEK    1\n",
              "3312-UUMZW    0\n",
              "7993-PYKOF    1\n",
              "6029-WTIPC    1\n",
              "             ..\n",
              "8755-OGKNA    0\n",
              "2087-QAREY    0\n",
              "5153-LXKDT    0\n",
              "6481-OGDOO    1\n",
              "3354-OADJP    0\n",
              "Name: Churn, Length: 1409, dtype: int64"
            ]
          },
          "execution_count": 240,
          "metadata": {},
          "output_type": "execute_result"
        }
      ],
      "source": [
        "#train-test split\n",
        "def train_test(df):\n",
        "    X = df.drop('Churn', axis=1)\n",
        "    y = df['Churn']\n",
        "    return tts(X,y, test_size=0.2)\n",
        "\n"
      ]
    },
    {
      "cell_type": "code",
      "execution_count": null,
      "id": "b6e3cbdc-1b16-43e0-9e7f-ccfaa236e67f",
      "metadata": {
        "id": "b6e3cbdc-1b16-43e0-9e7f-ccfaa236e67f",
        "outputId": "bf7418dc-bc3f-4597-f017-c98b10a06021"
      },
      "outputs": [
        {
          "name": "stdin",
          "output_type": "stream",
          "text": [
            "Enter the model that needs to be tested: ('log' for logistic regression,     'logc' for logistic regression with cross validation, 'sgd_hinge' for stochastic gradient descent with hinge loss,     'sgd_log_loss' for stochastic gradient descent with log loss (or) 'exit' to end. log\n"
          ]
        },
        {
          "name": "stdout",
          "output_type": "stream",
          "text": [
            "Logistic Regression\n"
          ]
        },
        {
          "name": "stdin",
          "output_type": "stream",
          "text": [
            "Enter the model that needs to be tested: ('log' for logistic regression,     'logc' for logistic regression with cross validation, 'sgd_hinge' for stochastic gradient descent with hinge loss,     'sgd_log_loss' for stochastic gradient descent with log loss (or) 'exit' to end. logc\n"
          ]
        },
        {
          "name": "stdout",
          "output_type": "stream",
          "text": [
            "Logistic Cross-Validated Regression\n"
          ]
        },
        {
          "name": "stdin",
          "output_type": "stream",
          "text": [
            "Enter the model that needs to be tested: ('log' for logistic regression,     'logc' for logistic regression with cross validation, 'sgd_hinge' for stochastic gradient descent with hinge loss,     'sgd_log_loss' for stochastic gradient descent with log loss (or) 'exit' to end. sgd_hinge\n"
          ]
        },
        {
          "name": "stdout",
          "output_type": "stream",
          "text": [
            "Stochastic Gradient Descent with hinge loss\n"
          ]
        },
        {
          "name": "stdin",
          "output_type": "stream",
          "text": [
            "Enter the model that needs to be tested: ('log' for logistic regression,     'logc' for logistic regression with cross validation, 'sgd_hinge' for stochastic gradient descent with hinge loss,     'sgd_log_loss' for stochastic gradient descent with log loss (or) 'exit' to end. sgd_log_loss\n"
          ]
        },
        {
          "name": "stdout",
          "output_type": "stream",
          "text": [
            "Stochastic Gradient Descent with Log Loss\n"
          ]
        },
        {
          "name": "stdin",
          "output_type": "stream",
          "text": [
            "Enter the model that needs to be tested: ('log' for logistic regression,     'logc' for logistic regression with cross validation, 'sgd_hinge' for stochastic gradient descent with hinge loss,     'sgd_log_loss' for stochastic gradient descent with log loss (or) 'exit' to end. exit\n"
          ]
        }
      ],
      "source": [
        "#Logistic model with no regularization\n",
        "y_pred = pd.DataFrame(columns=['Y_true'])\n",
        "y_pred['Y_true'] = yte\n",
        "\n",
        "\n",
        "def logistic(df, **kwargs):\n",
        "    lr = LogisticRegression(penalty=None, dual=False, tol=0.0001, C=1.0, fit_intercept=True, intercept_scaling=1, class_weight='balanced',\n",
        "                    random_state=None, solver='lbfgs', max_iter=100, multi_class='auto', verbose=0, warm_start=False, n_jobs=None, l1_ratio=None)\n",
        "    lr.fit(xtr,ytr)\n",
        "    yt = lr.predict(xte)\n",
        "    y_pred['Logistic'] = yt\n",
        "\n",
        "    cmpr.iloc[0,0] = lr.score(xte,yte)\n",
        "    cmpr.iloc[0,1] = precision_score(yte, yt)\n",
        "    cmpr.iloc[0,2] = recall_score(yte, yt)\n",
        "    cmpr.iloc[0,3] = roc_auc_score(yte, yt)\n",
        "    cmpr.iloc[0,4] = cohen_kappa_score(yte, yt)\n",
        "    cmpr.iloc[0,5] = matthews_corrcoef(yte, yt)\n",
        "    cmpr.iloc[0,7] = f1_score(yte, yt)\n",
        "    cmpr.iloc[0,6] = jaccard_score(yte, yt)\n",
        "\n",
        "    return y_pred, cmpr\n",
        "\n",
        "def logisticCV(df, **kwargs):\n",
        "    lr = lrcv(cv= 100,penalty='l2', dual=False, tol=0.0001, fit_intercept=True, intercept_scaling=1, class_weight=None,\n",
        "              random_state=None, solver='lbfgs', max_iter=100, multi_class='auto', verbose=0, n_jobs=None)\n",
        "    lr.fit(xtr,ytr)\n",
        "    yt = lr.predict(xte)\n",
        "    y_pred['LogisticCV'] = yt\n",
        "\n",
        "    cmpr.iloc[1,0] = lr.score(xte,yte)\n",
        "    cmpr.iloc[1,1] = precision_score(yte, yt)\n",
        "    cmpr.iloc[1,2] = recall_score(yte, yt)\n",
        "    cmpr.iloc[1,3] = roc_auc_score(yte, yt)\n",
        "    cmpr.iloc[1,4] = cohen_kappa_score(yte, yt)\n",
        "    cmpr.iloc[1,5] = matthews_corrcoef(yte, yt)\n",
        "    cmpr.iloc[1,7] = f1_score(yte, yt)\n",
        "    cmpr.iloc[1,6] = jaccard_score(yte, yt)\n",
        "\n",
        "\n",
        "def sgd_hinge(df, **kwargs):\n",
        "    lr = SGDClassifier(loss='hinge',penalty='l2', alpha=0.0001, l1_ratio=0.15, fit_intercept=True, max_iter=1000, tol=0.001, shuffle=True,\n",
        "                       verbose=0, epsilon=0.1, n_jobs=None, random_state=None, learning_rate='optimal', eta0=0.0, power_t=0.5, early_stopping=False,\n",
        "                       validation_fraction=0.1, n_iter_no_change=5, class_weight=None, warm_start=False, average=False)\n",
        "    lr.fit(xtr,ytr)\n",
        "    yt = lr.predict(xte)\n",
        "    y_pred['SGD-hinge'] = yt\n",
        "\n",
        "    cmpr.iloc[2,0] = lr.score(xte,yte)\n",
        "    cmpr.iloc[2,1] = precision_score(yte, yt)\n",
        "    cmpr.iloc[2,2] = recall_score(yte, yt)\n",
        "    cmpr.iloc[2,3] = roc_auc_score(yte, yt)\n",
        "    cmpr.iloc[2,4] = cohen_kappa_score(yte, yt)\n",
        "    cmpr.iloc[2,5] = matthews_corrcoef(yte, yt)\n",
        "    cmpr.iloc[2,7] = f1_score(yte, yt)\n",
        "    cmpr.iloc[2,6] = jaccard_score(yte, yt)\n",
        "\n",
        "def sgd_log_loss(df, **kwargs):\n",
        "    lr = SGDClassifier(loss='log_loss',penalty='l2', alpha=0.0001, l1_ratio=0.15, fit_intercept=True, max_iter=1000, tol=0.001, shuffle=True,\n",
        "                       verbose=0, epsilon=0.1, n_jobs=None, random_state=None, learning_rate='optimal', eta0=0.0, power_t=0.5, early_stopping=False,\n",
        "                       validation_fraction=0.1, n_iter_no_change=5, class_weight=None, warm_start=False, average=False)\n",
        "    lr.fit(xtr,ytr)\n",
        "    yt = lr.predict(xte)\n",
        "    y_pred['SGD-log_loss'] = yt\n",
        "\n",
        "    cmpr.iloc[3,0] = lr.score(xte,yte)\n",
        "    cmpr.iloc[3,1] = precision_score(yte, yt)\n",
        "    cmpr.iloc[3,2] = recall_score(yte, yt)\n",
        "    cmpr.iloc[3,3] = roc_auc_score(yte, yt)\n",
        "    cmpr.iloc[3,4] = cohen_kappa_score(yte, yt)\n",
        "    cmpr.iloc[3,5] = matthews_corrcoef(yte, yt)\n",
        "    cmpr.iloc[3,7] = f1_score(yte, yt)\n",
        "    cmpr.iloc[3,6] = jaccard_score(yte, yt)\n",
        "\n",
        "cmpr = pd.DataFrame(columns = ['Accuracy', 'Precision', 'Recall', 'AUC', 'C-kappa', 'Matthew', 'jaccard', 'f1_score'],\n",
        "                    index = ['Logistic', 'LogisticCV', 'SGD-log_loss', 'SGD-hinge'] )\n",
        "stay = True\n",
        "while stay:\n",
        "    user = input(\"Enter the model that needs to be tested: ('log' for logistic regression, \\\n",
        "    'logc' for logistic regression with cross validation, 'sgd_hinge' for stochastic gradient descent with hinge loss, \\\n",
        "    'sgd_log_loss' for stochastic gradient descent with log loss (or) 'exit' to end.\")\n",
        "    if str(user) == 'log':\n",
        "        print('Logistic Regression')\n",
        "        logistic(df)\n",
        "\n",
        "    elif str(user) == 'logc':\n",
        "        print('Logistic Cross-Validated Regression')\n",
        "        logisticCV(df)\n",
        "\n",
        "    elif str(user) == 'sgd_hinge':\n",
        "        print('Stochastic Gradient Descent with hinge loss')\n",
        "        sgd_hinge(df)\n",
        "\n",
        "    elif str(user) == 'sgd_log_loss':\n",
        "        print('Stochastic Gradient Descent with Log Loss')\n",
        "        sgd_log_loss(df)\n",
        "\n",
        "\n",
        "    elif str(user).lower() == 'exit':\n",
        "        stay = False\n",
        "\n",
        "\n",
        "\n"
      ]
    },
    {
      "cell_type": "code",
      "execution_count": null,
      "id": "c55f9a8c-eead-4e87-a470-37c9c17e4ef4",
      "metadata": {
        "id": "c55f9a8c-eead-4e87-a470-37c9c17e4ef4",
        "outputId": "a91c99b3-fd64-4731-8caf-f4adb27f3e7d"
      },
      "outputs": [
        {
          "data": {
            "text/html": [
              "<div>\n",
              "<style scoped>\n",
              "    .dataframe tbody tr th:only-of-type {\n",
              "        vertical-align: middle;\n",
              "    }\n",
              "\n",
              "    .dataframe tbody tr th {\n",
              "        vertical-align: top;\n",
              "    }\n",
              "\n",
              "    .dataframe thead th {\n",
              "        text-align: right;\n",
              "    }\n",
              "</style>\n",
              "<table border=\"1\" class=\"dataframe\">\n",
              "  <thead>\n",
              "    <tr style=\"text-align: right;\">\n",
              "      <th></th>\n",
              "      <th>Accuracy</th>\n",
              "      <th>Precision</th>\n",
              "      <th>Recall</th>\n",
              "      <th>AUC</th>\n",
              "      <th>C-kappa</th>\n",
              "      <th>Matthew</th>\n",
              "      <th>jaccard</th>\n",
              "      <th>f1_score</th>\n",
              "    </tr>\n",
              "  </thead>\n",
              "  <tbody>\n",
              "    <tr>\n",
              "      <th>Logistic</th>\n",
              "      <td>0.745209</td>\n",
              "      <td>0.529915</td>\n",
              "      <td>0.786802</td>\n",
              "      <td>0.757933</td>\n",
              "      <td>0.449244</td>\n",
              "      <td>0.469869</td>\n",
              "      <td>0.463378</td>\n",
              "      <td>0.633299</td>\n",
              "    </tr>\n",
              "    <tr>\n",
              "      <th>LogisticCV</th>\n",
              "      <td>0.797019</td>\n",
              "      <td>0.674194</td>\n",
              "      <td>0.530457</td>\n",
              "      <td>0.715475</td>\n",
              "      <td>0.461017</td>\n",
              "      <td>0.466904</td>\n",
              "      <td>0.422222</td>\n",
              "      <td>0.59375</td>\n",
              "    </tr>\n",
              "    <tr>\n",
              "      <th>SGD-log_loss</th>\n",
              "      <td>0.764372</td>\n",
              "      <td>0.574879</td>\n",
              "      <td>0.604061</td>\n",
              "      <td>0.715331</td>\n",
              "      <td>0.424077</td>\n",
              "      <td>0.424332</td>\n",
              "      <td>0.417544</td>\n",
              "      <td>0.589109</td>\n",
              "    </tr>\n",
              "    <tr>\n",
              "      <th>SGD-hinge</th>\n",
              "      <td>0.756565</td>\n",
              "      <td>0.697674</td>\n",
              "      <td>0.228426</td>\n",
              "      <td>0.595001</td>\n",
              "      <td>0.239224</td>\n",
              "      <td>0.295693</td>\n",
              "      <td>0.207852</td>\n",
              "      <td>0.344168</td>\n",
              "    </tr>\n",
              "  </tbody>\n",
              "</table>\n",
              "</div>"
            ],
            "text/plain": [
              "              Accuracy Precision    Recall       AUC   C-kappa   Matthew  \\\n",
              "Logistic      0.745209  0.529915  0.786802  0.757933  0.449244  0.469869   \n",
              "LogisticCV    0.797019  0.674194  0.530457  0.715475  0.461017  0.466904   \n",
              "SGD-log_loss  0.764372  0.574879  0.604061  0.715331  0.424077  0.424332   \n",
              "SGD-hinge     0.756565  0.697674  0.228426  0.595001  0.239224  0.295693   \n",
              "\n",
              "               jaccard  f1_score  \n",
              "Logistic      0.463378  0.633299  \n",
              "LogisticCV    0.422222   0.59375  \n",
              "SGD-log_loss  0.417544  0.589109  \n",
              "SGD-hinge     0.207852  0.344168  "
            ]
          },
          "execution_count": 301,
          "metadata": {},
          "output_type": "execute_result"
        }
      ],
      "source": [
        "cmpr"
      ]
    },
    {
      "cell_type": "code",
      "execution_count": null,
      "id": "62681ab5-f26d-42fe-a1db-c242db856fd2",
      "metadata": {
        "id": "62681ab5-f26d-42fe-a1db-c242db856fd2",
        "outputId": "80e23cfe-3f03-44ed-e63a-f44a85e6ad22"
      },
      "outputs": [
        {
          "name": "stdout",
          "output_type": "stream",
          "text": [
            "Y_true\n",
            "0    1015\n",
            "1     394\n",
            "Name: count, dtype: int64\n",
            "Logistic\n",
            "0    824\n",
            "1    585\n",
            "Name: count, dtype: int64\n",
            "LogisticCV\n",
            "0    1099\n",
            "1     310\n",
            "Name: count, dtype: int64\n",
            "SGD-hinge\n",
            "0    995\n",
            "1    414\n",
            "Name: count, dtype: int64\n",
            "SGD-log_loss\n",
            "0    1280\n",
            "1     129\n",
            "Name: count, dtype: int64\n"
          ]
        }
      ],
      "source": [
        "for i in y_pred.columns:\n",
        "    print(y_pred[i].value_counts())"
      ]
    },
    {
      "cell_type": "code",
      "execution_count": null,
      "id": "35764ae6-ed0d-43ce-aff2-e3ba72b1d8cc",
      "metadata": {
        "id": "35764ae6-ed0d-43ce-aff2-e3ba72b1d8cc",
        "outputId": "902b0f7f-0f1c-4660-b80a-745df1da433d"
      },
      "outputs": [
        {
          "data": {
            "text/plain": [
              "array([5174, 1869])"
            ]
          },
          "execution_count": 160,
          "metadata": {},
          "output_type": "execute_result"
        }
      ],
      "source": [
        "def evaluation():\n",
        "    #CONFUSION MATRIX\n",
        "    #ACCURACY\n",
        "    #PRECISION\n",
        "    #RECALL\n",
        "    #SENSITIVITY\n",
        "    #SPECIFICITY"
      ]
    },
    {
      "cell_type": "code",
      "execution_count": null,
      "id": "0b2fe943-9674-4488-a5df-a03609961a74",
      "metadata": {
        "id": "0b2fe943-9674-4488-a5df-a03609961a74",
        "outputId": "5f97383b-473f-4a5c-87a7-56de7b67b9db"
      },
      "outputs": [
        {
          "data": {
            "text/plain": [
              "<sklearn.metrics._plot.confusion_matrix.ConfusionMatrixDisplay at 0x7f12bdaae7a0>"
            ]
          },
          "execution_count": 319,
          "metadata": {},
          "output_type": "execute_result"
        },
        {
          "data": {
            "image/png": "[encoded data removed]",
            "text/plain": [
              "<Figure size 640x480 with 2 Axes>"
            ]
          },
          "metadata": {},
          "output_type": "display_data"
        }
      ],
      "source": [
        "ConfusionMatrixDisplay(confusion_matrix(y_pred['Y_true'],y_pred['Logistic'])).plot()"
      ]
    },
    {
      "cell_type": "code",
      "execution_count": null,
      "id": "217d2a6b-29e2-416d-8635-433e21896dde",
      "metadata": {
        "id": "217d2a6b-29e2-416d-8635-433e21896dde",
        "outputId": "534b1368-0ceb-47e0-b955-301ab180ad74"
      },
      "outputs": [
        {
          "data": {
            "text/plain": [
              "array([[740, 275],\n",
              "       [ 84, 310]])"
            ]
          },
          "execution_count": 320,
          "metadata": {},
          "output_type": "execute_result"
        }
      ],
      "source": [
        "confusion_matrix(y_pred['Y_true'],y_pred['Logistic'])"
      ]
    },
    {
      "cell_type": "code",
      "execution_count": null,
      "id": "4b09f92e-6540-4989-8faf-250481619519",
      "metadata": {
        "id": "4b09f92e-6540-4989-8faf-250481619519",
        "outputId": "56e4223e-1126-49cb-87e1-9d29165d3070"
      },
      "outputs": [
        {
          "data": {
            "image/png": "[encoded data removed]",
            "text/plain": [
              "<Figure size 640x480 with 2 Axes>"
            ]
          },
          "metadata": {},
          "output_type": "display_data"
        },
        {
          "data": {
            "image/png": "[encoded data removed]",
            "text/plain": [
              "<Figure size 640x480 with 2 Axes>"
            ]
          },
          "metadata": {},
          "output_type": "display_data"
        },
        {
          "data": {
            "image/png": "[encoded data removed]",
            "text/plain": [
              "<Figure size 640x480 with 2 Axes>"
            ]
          },
          "metadata": {},
          "output_type": "display_data"
        },
        {
          "data": {
            "image/png": "[encoded data removed]",
            "text/plain": [
              "<Figure size 640x480 with 2 Axes>"
            ]
          },
          "metadata": {},
          "output_type": "display_data"
        }
      ],
      "source": [
        "for i in y_pred.drop('Y_true',axis=1):\n",
        "    ConfusionMatrixDisplay(confusion_matrix(y_pred['Y_true'],y_pred[i]),display_labels=['Retained','Churned']).plot();plt.title(f'Model {i}')\n",
        ""
      ]
    },
    {
      "cell_type": "code",
      "execution_count": null,
      "id": "b4316284-7964-4416-96fe-51937f51b342",
      "metadata": {
        "id": "b4316284-7964-4416-96fe-51937f51b342",
        "outputId": "825cea4d-4279-4302-de33-e704c35ff4d1"
      },
      "outputs": [
        {
          "name": "stdout",
          "output_type": "stream",
          "text": [
            "0 1\n",
            "0 1\n"
          ]
        }
      ],
      "source": [
        "for j,k in range(2),range(2):\n",
        "    print(j,k)"
      ]
    },
    {
      "cell_type": "code",
      "execution_count": null,
      "id": "817016b7-5ee6-4f61-a1c8-7fc878b10a5e",
      "metadata": {
        "id": "817016b7-5ee6-4f61-a1c8-7fc878b10a5e"
      },
      "outputs": [],
      "source": []
    }
  ],
  "metadata": {
    "kernelspec": {
      "display_name": "Python 3 (ipykernel)",
      "language": "python",
      "name": "python3"
    },
    "language_info": {
      "codemirror_mode": {
        "name": "ipython",
        "version": 3
      },
      "file_extension": ".py",
      "mimetype": "text/x-python",
      "name": "python",
      "nbconvert_exporter": "python",
      "pygments_lexer": "ipython3",
      "version": "3.10.12"
    },
    "colab": {
      "provenance": [],
      "include_colab_link": true
    }
  },
  "nbformat": 4,
  "nbformat_minor": 5
}